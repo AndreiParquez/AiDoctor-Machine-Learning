{
 "cells": [
  {
   "cell_type": "code",
   "execution_count": 2,
   "id": "26ff4410-8d49-4c52-811e-c20b1a74e748",
   "metadata": {},
   "source": [
    "import pandas as pd\n",
    "from sklearn.model_selection import train_test_split\n",
    "from sklearn.feature_extraction.text import TfidfVectorizer\n",
    "from sklearn.svm import SVC\n",
    "from sklearn.metrics import accuracy_score\n",
    "\n",
    "# Load data from CSV file\n",
    "df = pd.read_csv('try.csv')\n",
    "\n",
    "# Split data into training and testing sets\n",
    "X_train, X_test, y_train, y_test = train_test_split(df['text'], df['label'], test_size=0.2, random_state=42)\n",
    "\n",
    "# Convert text data to TF-IDF features\n",
    "tfidf_vectorizer = TfidfVectorizer()\n",
    "X_train_tfidf = tfidf_vectorizer.fit_transform(X_train)\n",
    "X_test_tfidf = tfidf_vectorizer.transform(X_test)\n",
    "\n",
    "# Train Support Vector Classifier\n",
    "svm_model = SVC(kernel='linear')\n",
    "svm_model.fit(X_train_tfidf, y_train)\n",
    "\n",
    "# Make predictions\n",
    "y_pred = svm_model.predict(X_test_tfidf)\n",
    "\n",
    "# Evaluate model performance\n",
    "accuracy = accuracy_score(y_test, y_pred)\n",
    "print(\"Accuracy:\", accuracy)\n",
    "\n",
    "# Example prediction\n",
    "new_symptom = [\"my head is aching and it feels so heavy\"]\n",
    "new_symptom_tfidf = tfidf_vectorizer.transform(new_symptom)\n",
    "predicted_label = svm_model.predict(new_symptom_tfidf)\n",
    "print(\"Predicted label:\", predicted_label)\n",
    "\n"
   ],
   "outputs": []
  },
  {
   "cell_type": "code",
   "execution_count": 5,
   "id": "b96b48a5-755e-4d03-aea9-6a684aa38694",
   "metadata": {},
   "source": [
    "import pickle\n",
    "# Define file paths where the model and vectorizer will be saved\n",
    "model_filename = 'svm_model.pkl'\n",
    "vectorizer_filename = 'tfidf_vectorizer.pkl'\n",
    "\n",
    "# Save the SVM model\n",
    "with open(model_filename, 'wb') as file:\n",
    "    pickle.dump(svm_model, file)\n",
    "\n",
    "# Save the TF-IDF vectorizer\n",
    "with open(vectorizer_filename, 'wb') as file:\n",
    "    pickle.dump(tfidf_vectorizer, file)\n",
    "\n",
    "print(f\"Model saved to {model_filename}\")\n",
    "print(f\"Vectorizer saved to {vectorizer_filename}\")\n"
   ],
   "outputs": []
  },
  {
   "cell_type": "code",
   "execution_count": 7,
   "id": "bb6f211e-2f42-4434-a0c3-151ba283aa5b",
   "metadata": {},
   "source": [
    "# Load the SVM model\n",
    "with open(model_filename, 'rb') as file:\n",
    "    loaded_model = pickle.load(file)\n",
    "\n",
    "# Load the TF-IDF vectorizer\n",
    "with open(vectorizer_filename, 'rb') as file:\n",
    "    loaded_vectorizer = pickle.load(file)\n",
    "\n",
    "print(\"Model and vectorizer loaded successfully\")\n",
    "\n",
    "# Verify the model works by making a prediction\n",
    "new_symptom = [\"my head is spinning\"]\n",
    "new_symptom_tfidf = loaded_vectorizer.transform(new_symptom)\n",
    "predicted_label = loaded_model.predict(new_symptom_tfidf)\n",
    "print(\"Predicted label:\", predicted_label)\n"
   ],
   "outputs": []
  },
  {
   "cell_type": "code",
   "execution_count": null,
   "id": "132ea575-9e77-4051-aae9-9396262967fc",
   "metadata": {},
   "source": [],
   "outputs": []
  }
 ],
 "metadata": {
  "kernelspec": {
   "display_name": "Python 3 (ipykernel)",
   "language": "python",
   "name": "python3"
  },
  "language_info": {
   "codemirror_mode": {
    "name": "ipython",
    "version": 3
   },
   "file_extension": ".py",
   "mimetype": "text/x-python",
   "name": "python",
   "nbconvert_exporter": "python",
   "pygments_lexer": "ipython3",
   "version": "3.11.7"
  }
 },
 "nbformat": 4,
 "nbformat_minor": 5
}
